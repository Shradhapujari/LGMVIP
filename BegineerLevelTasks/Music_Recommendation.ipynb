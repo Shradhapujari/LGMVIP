{
  "nbformat": 4,
  "nbformat_minor": 5,
  "metadata": {
    "kernelspec": {
      "display_name": "Python 3",
      "language": "python",
      "name": "python3"
    },
    "language_info": {
      "codemirror_mode": {
        "name": "ipython",
        "version": 3
      },
      "file_extension": ".py",
      "mimetype": "text/x-python",
      "name": "python",
      "nbconvert_exporter": "python",
      "pygments_lexer": "ipython3",
      "version": "3.9.5"
    },
    "colab": {
      "name": "Music Recommendation.ipynb",
      "provenance": []
    }
  },
  "cells": [
    {
      "cell_type": "markdown",
      "metadata": {
        "id": "4CZzlPx3_376"
      },
      "source": [
        "# __Name - Shradha Pujari__"
      ],
      "id": "4CZzlPx3_376"
    },
    {
      "cell_type": "markdown",
      "metadata": {
        "id": "018fe299"
      },
      "source": [
        "# **__LGM-VIP Data Science Internship__**"
      ],
      "id": "018fe299"
    },
    {
      "cell_type": "markdown",
      "metadata": {
        "id": "222d2334"
      },
      "source": [
        "# __Begineer Level Task 3: Music Recommendation__"
      ],
      "id": "222d2334"
    },
    {
      "cell_type": "markdown",
      "metadata": {
        "id": "908e92e5"
      },
      "source": [
        "__Importing the required python libraries and modules__"
      ],
      "id": "908e92e5"
    },
    {
      "cell_type": "code",
      "metadata": {
        "id": "feea59a6"
      },
      "source": [
        "import pandas as pd\n",
        "import numpy as np\n",
        "import matplotlib.pyplot as plt\n",
        "import seaborn as sns\n",
        "import Recommenders as Recommenders"
      ],
      "id": "feea59a6",
      "execution_count": null,
      "outputs": []
    },
    {
      "cell_type": "markdown",
      "metadata": {
        "id": "d2ab9a5b"
      },
      "source": [
        "__Loading the dataset__"
      ],
      "id": "d2ab9a5b"
    },
    {
      "cell_type": "code",
      "metadata": {
        "id": "237e0e4b",
        "outputId": "0669129c-afe5-4cba-9b7e-f013c031f81a"
      },
      "source": [
        "song_df_1=pd.read_csv('triplets_file.csv')\n",
        "song_df_1.head()"
      ],
      "id": "237e0e4b",
      "execution_count": null,
      "outputs": [
        {
          "data": {
            "text/html": [
              "<div>\n",
              "<style scoped>\n",
              "    .dataframe tbody tr th:only-of-type {\n",
              "        vertical-align: middle;\n",
              "    }\n",
              "\n",
              "    .dataframe tbody tr th {\n",
              "        vertical-align: top;\n",
              "    }\n",
              "\n",
              "    .dataframe thead th {\n",
              "        text-align: right;\n",
              "    }\n",
              "</style>\n",
              "<table border=\"1\" class=\"dataframe\">\n",
              "  <thead>\n",
              "    <tr style=\"text-align: right;\">\n",
              "      <th></th>\n",
              "      <th>user_id</th>\n",
              "      <th>song_id</th>\n",
              "      <th>listen_count</th>\n",
              "    </tr>\n",
              "  </thead>\n",
              "  <tbody>\n",
              "    <tr>\n",
              "      <th>0</th>\n",
              "      <td>b80344d063b5ccb3212f76538f3d9e43d87dca9e</td>\n",
              "      <td>SOAKIMP12A8C130995</td>\n",
              "      <td>1</td>\n",
              "    </tr>\n",
              "    <tr>\n",
              "      <th>1</th>\n",
              "      <td>b80344d063b5ccb3212f76538f3d9e43d87dca9e</td>\n",
              "      <td>SOBBMDR12A8C13253B</td>\n",
              "      <td>2</td>\n",
              "    </tr>\n",
              "    <tr>\n",
              "      <th>2</th>\n",
              "      <td>b80344d063b5ccb3212f76538f3d9e43d87dca9e</td>\n",
              "      <td>SOBXHDL12A81C204C0</td>\n",
              "      <td>1</td>\n",
              "    </tr>\n",
              "    <tr>\n",
              "      <th>3</th>\n",
              "      <td>b80344d063b5ccb3212f76538f3d9e43d87dca9e</td>\n",
              "      <td>SOBYHAJ12A6701BF1D</td>\n",
              "      <td>1</td>\n",
              "    </tr>\n",
              "    <tr>\n",
              "      <th>4</th>\n",
              "      <td>b80344d063b5ccb3212f76538f3d9e43d87dca9e</td>\n",
              "      <td>SODACBL12A8C13C273</td>\n",
              "      <td>1</td>\n",
              "    </tr>\n",
              "  </tbody>\n",
              "</table>\n",
              "</div>"
            ],
            "text/plain": [
              "                                    user_id             song_id  listen_count\n",
              "0  b80344d063b5ccb3212f76538f3d9e43d87dca9e  SOAKIMP12A8C130995             1\n",
              "1  b80344d063b5ccb3212f76538f3d9e43d87dca9e  SOBBMDR12A8C13253B             2\n",
              "2  b80344d063b5ccb3212f76538f3d9e43d87dca9e  SOBXHDL12A81C204C0             1\n",
              "3  b80344d063b5ccb3212f76538f3d9e43d87dca9e  SOBYHAJ12A6701BF1D             1\n",
              "4  b80344d063b5ccb3212f76538f3d9e43d87dca9e  SODACBL12A8C13C273             1"
            ]
          },
          "execution_count": 2,
          "metadata": {},
          "output_type": "execute_result"
        }
      ]
    },
    {
      "cell_type": "code",
      "metadata": {
        "id": "21f04d4d",
        "outputId": "e3f2a7cf-32f0-4ac7-de1c-f4f1bb108c51"
      },
      "source": [
        "len(song_df_1)"
      ],
      "id": "21f04d4d",
      "execution_count": null,
      "outputs": [
        {
          "data": {
            "text/plain": [
              "2000000"
            ]
          },
          "execution_count": 3,
          "metadata": {},
          "output_type": "execute_result"
        }
      ]
    },
    {
      "cell_type": "code",
      "metadata": {
        "id": "7a99c64c",
        "outputId": "e6e755a0-e601-42d5-8ef3-34b4cebf1000"
      },
      "source": [
        "song_df_2=pd.read_csv('song_data.csv')\n",
        "song_df_2.head()"
      ],
      "id": "7a99c64c",
      "execution_count": null,
      "outputs": [
        {
          "data": {
            "text/html": [
              "<div>\n",
              "<style scoped>\n",
              "    .dataframe tbody tr th:only-of-type {\n",
              "        vertical-align: middle;\n",
              "    }\n",
              "\n",
              "    .dataframe tbody tr th {\n",
              "        vertical-align: top;\n",
              "    }\n",
              "\n",
              "    .dataframe thead th {\n",
              "        text-align: right;\n",
              "    }\n",
              "</style>\n",
              "<table border=\"1\" class=\"dataframe\">\n",
              "  <thead>\n",
              "    <tr style=\"text-align: right;\">\n",
              "      <th></th>\n",
              "      <th>song_id</th>\n",
              "      <th>title</th>\n",
              "      <th>release</th>\n",
              "      <th>artist_name</th>\n",
              "      <th>year</th>\n",
              "    </tr>\n",
              "  </thead>\n",
              "  <tbody>\n",
              "    <tr>\n",
              "      <th>0</th>\n",
              "      <td>SOQMMHC12AB0180CB8</td>\n",
              "      <td>Silent Night</td>\n",
              "      <td>Monster Ballads X-Mas</td>\n",
              "      <td>Faster Pussy cat</td>\n",
              "      <td>2003</td>\n",
              "    </tr>\n",
              "    <tr>\n",
              "      <th>1</th>\n",
              "      <td>SOVFVAK12A8C1350D9</td>\n",
              "      <td>Tanssi vaan</td>\n",
              "      <td>Karkuteillä</td>\n",
              "      <td>Karkkiautomaatti</td>\n",
              "      <td>1995</td>\n",
              "    </tr>\n",
              "    <tr>\n",
              "      <th>2</th>\n",
              "      <td>SOGTUKN12AB017F4F1</td>\n",
              "      <td>No One Could Ever</td>\n",
              "      <td>Butter</td>\n",
              "      <td>Hudson Mohawke</td>\n",
              "      <td>2006</td>\n",
              "    </tr>\n",
              "    <tr>\n",
              "      <th>3</th>\n",
              "      <td>SOBNYVR12A8C13558C</td>\n",
              "      <td>Si Vos Querés</td>\n",
              "      <td>De Culo</td>\n",
              "      <td>Yerba Brava</td>\n",
              "      <td>2003</td>\n",
              "    </tr>\n",
              "    <tr>\n",
              "      <th>4</th>\n",
              "      <td>SOHSBXH12A8C13B0DF</td>\n",
              "      <td>Tangle Of Aspens</td>\n",
              "      <td>Rene Ablaze Presents Winter Sessions</td>\n",
              "      <td>Der Mystic</td>\n",
              "      <td>0</td>\n",
              "    </tr>\n",
              "  </tbody>\n",
              "</table>\n",
              "</div>"
            ],
            "text/plain": [
              "              song_id              title  \\\n",
              "0  SOQMMHC12AB0180CB8       Silent Night   \n",
              "1  SOVFVAK12A8C1350D9        Tanssi vaan   \n",
              "2  SOGTUKN12AB017F4F1  No One Could Ever   \n",
              "3  SOBNYVR12A8C13558C      Si Vos Querés   \n",
              "4  SOHSBXH12A8C13B0DF   Tangle Of Aspens   \n",
              "\n",
              "                                release       artist_name  year  \n",
              "0                 Monster Ballads X-Mas  Faster Pussy cat  2003  \n",
              "1                           Karkuteillä  Karkkiautomaatti  1995  \n",
              "2                                Butter    Hudson Mohawke  2006  \n",
              "3                               De Culo       Yerba Brava  2003  \n",
              "4  Rene Ablaze Presents Winter Sessions        Der Mystic     0  "
            ]
          },
          "execution_count": 4,
          "metadata": {},
          "output_type": "execute_result"
        }
      ]
    },
    {
      "cell_type": "code",
      "metadata": {
        "id": "973142f7",
        "outputId": "35d91067-16a7-4fa1-d531-ce19a570ec6a"
      },
      "source": [
        "len(song_df_2)"
      ],
      "id": "973142f7",
      "execution_count": null,
      "outputs": [
        {
          "data": {
            "text/plain": [
              "1000000"
            ]
          },
          "execution_count": 5,
          "metadata": {},
          "output_type": "execute_result"
        }
      ]
    },
    {
      "cell_type": "markdown",
      "metadata": {
        "id": "73b991fa"
      },
      "source": [
        "__Merging two dataframes and dropping duplicates(if any)__"
      ],
      "id": "73b991fa"
    },
    {
      "cell_type": "code",
      "metadata": {
        "id": "4f74b368",
        "outputId": "912a6325-8115-487e-ae79-79038679c73b"
      },
      "source": [
        "song_df=pd.merge(song_df_1,song_df_2.drop_duplicates(['song_id']),on='song_id',how='left')\n",
        "song_df.head()"
      ],
      "id": "4f74b368",
      "execution_count": null,
      "outputs": [
        {
          "data": {
            "text/html": [
              "<div>\n",
              "<style scoped>\n",
              "    .dataframe tbody tr th:only-of-type {\n",
              "        vertical-align: middle;\n",
              "    }\n",
              "\n",
              "    .dataframe tbody tr th {\n",
              "        vertical-align: top;\n",
              "    }\n",
              "\n",
              "    .dataframe thead th {\n",
              "        text-align: right;\n",
              "    }\n",
              "</style>\n",
              "<table border=\"1\" class=\"dataframe\">\n",
              "  <thead>\n",
              "    <tr style=\"text-align: right;\">\n",
              "      <th></th>\n",
              "      <th>user_id</th>\n",
              "      <th>song_id</th>\n",
              "      <th>listen_count</th>\n",
              "      <th>title</th>\n",
              "      <th>release</th>\n",
              "      <th>artist_name</th>\n",
              "      <th>year</th>\n",
              "    </tr>\n",
              "  </thead>\n",
              "  <tbody>\n",
              "    <tr>\n",
              "      <th>0</th>\n",
              "      <td>b80344d063b5ccb3212f76538f3d9e43d87dca9e</td>\n",
              "      <td>SOAKIMP12A8C130995</td>\n",
              "      <td>1</td>\n",
              "      <td>The Cove</td>\n",
              "      <td>Thicker Than Water</td>\n",
              "      <td>Jack Johnson</td>\n",
              "      <td>0</td>\n",
              "    </tr>\n",
              "    <tr>\n",
              "      <th>1</th>\n",
              "      <td>b80344d063b5ccb3212f76538f3d9e43d87dca9e</td>\n",
              "      <td>SOBBMDR12A8C13253B</td>\n",
              "      <td>2</td>\n",
              "      <td>Entre Dos Aguas</td>\n",
              "      <td>Flamenco Para Niños</td>\n",
              "      <td>Paco De Lucia</td>\n",
              "      <td>1976</td>\n",
              "    </tr>\n",
              "    <tr>\n",
              "      <th>2</th>\n",
              "      <td>b80344d063b5ccb3212f76538f3d9e43d87dca9e</td>\n",
              "      <td>SOBXHDL12A81C204C0</td>\n",
              "      <td>1</td>\n",
              "      <td>Stronger</td>\n",
              "      <td>Graduation</td>\n",
              "      <td>Kanye West</td>\n",
              "      <td>2007</td>\n",
              "    </tr>\n",
              "    <tr>\n",
              "      <th>3</th>\n",
              "      <td>b80344d063b5ccb3212f76538f3d9e43d87dca9e</td>\n",
              "      <td>SOBYHAJ12A6701BF1D</td>\n",
              "      <td>1</td>\n",
              "      <td>Constellations</td>\n",
              "      <td>In Between Dreams</td>\n",
              "      <td>Jack Johnson</td>\n",
              "      <td>2005</td>\n",
              "    </tr>\n",
              "    <tr>\n",
              "      <th>4</th>\n",
              "      <td>b80344d063b5ccb3212f76538f3d9e43d87dca9e</td>\n",
              "      <td>SODACBL12A8C13C273</td>\n",
              "      <td>1</td>\n",
              "      <td>Learn To Fly</td>\n",
              "      <td>There Is Nothing Left To Lose</td>\n",
              "      <td>Foo Fighters</td>\n",
              "      <td>1999</td>\n",
              "    </tr>\n",
              "  </tbody>\n",
              "</table>\n",
              "</div>"
            ],
            "text/plain": [
              "                                    user_id             song_id  listen_count  \\\n",
              "0  b80344d063b5ccb3212f76538f3d9e43d87dca9e  SOAKIMP12A8C130995             1   \n",
              "1  b80344d063b5ccb3212f76538f3d9e43d87dca9e  SOBBMDR12A8C13253B             2   \n",
              "2  b80344d063b5ccb3212f76538f3d9e43d87dca9e  SOBXHDL12A81C204C0             1   \n",
              "3  b80344d063b5ccb3212f76538f3d9e43d87dca9e  SOBYHAJ12A6701BF1D             1   \n",
              "4  b80344d063b5ccb3212f76538f3d9e43d87dca9e  SODACBL12A8C13C273             1   \n",
              "\n",
              "             title                        release    artist_name  year  \n",
              "0         The Cove             Thicker Than Water   Jack Johnson     0  \n",
              "1  Entre Dos Aguas            Flamenco Para Niños  Paco De Lucia  1976  \n",
              "2         Stronger                     Graduation     Kanye West  2007  \n",
              "3   Constellations              In Between Dreams   Jack Johnson  2005  \n",
              "4     Learn To Fly  There Is Nothing Left To Lose   Foo Fighters  1999  "
            ]
          },
          "execution_count": 6,
          "metadata": {},
          "output_type": "execute_result"
        }
      ]
    },
    {
      "cell_type": "code",
      "metadata": {
        "id": "019e263e",
        "outputId": "9a1d0a96-143d-41d9-d14c-96484947e2b8"
      },
      "source": [
        "len(song_df)"
      ],
      "id": "019e263e",
      "execution_count": null,
      "outputs": [
        {
          "data": {
            "text/plain": [
              "2000000"
            ]
          },
          "execution_count": 7,
          "metadata": {},
          "output_type": "execute_result"
        }
      ]
    },
    {
      "cell_type": "markdown",
      "metadata": {
        "id": "5d39ef88"
      },
      "source": [
        "# Data Preprocessing"
      ],
      "id": "5d39ef88"
    },
    {
      "cell_type": "code",
      "metadata": {
        "id": "b1903873",
        "outputId": "585758aa-a5c7-46fd-d2df-d64888c10dd6"
      },
      "source": [
        "song_df['song']=song_df['title']+\"-\"+song_df['artist_name']\n",
        "song_df.head()"
      ],
      "id": "b1903873",
      "execution_count": null,
      "outputs": [
        {
          "data": {
            "text/html": [
              "<div>\n",
              "<style scoped>\n",
              "    .dataframe tbody tr th:only-of-type {\n",
              "        vertical-align: middle;\n",
              "    }\n",
              "\n",
              "    .dataframe tbody tr th {\n",
              "        vertical-align: top;\n",
              "    }\n",
              "\n",
              "    .dataframe thead th {\n",
              "        text-align: right;\n",
              "    }\n",
              "</style>\n",
              "<table border=\"1\" class=\"dataframe\">\n",
              "  <thead>\n",
              "    <tr style=\"text-align: right;\">\n",
              "      <th></th>\n",
              "      <th>user_id</th>\n",
              "      <th>song_id</th>\n",
              "      <th>listen_count</th>\n",
              "      <th>title</th>\n",
              "      <th>release</th>\n",
              "      <th>artist_name</th>\n",
              "      <th>year</th>\n",
              "      <th>song</th>\n",
              "    </tr>\n",
              "  </thead>\n",
              "  <tbody>\n",
              "    <tr>\n",
              "      <th>0</th>\n",
              "      <td>b80344d063b5ccb3212f76538f3d9e43d87dca9e</td>\n",
              "      <td>SOAKIMP12A8C130995</td>\n",
              "      <td>1</td>\n",
              "      <td>The Cove</td>\n",
              "      <td>Thicker Than Water</td>\n",
              "      <td>Jack Johnson</td>\n",
              "      <td>0</td>\n",
              "      <td>The Cove-Jack Johnson</td>\n",
              "    </tr>\n",
              "    <tr>\n",
              "      <th>1</th>\n",
              "      <td>b80344d063b5ccb3212f76538f3d9e43d87dca9e</td>\n",
              "      <td>SOBBMDR12A8C13253B</td>\n",
              "      <td>2</td>\n",
              "      <td>Entre Dos Aguas</td>\n",
              "      <td>Flamenco Para Niños</td>\n",
              "      <td>Paco De Lucia</td>\n",
              "      <td>1976</td>\n",
              "      <td>Entre Dos Aguas-Paco De Lucia</td>\n",
              "    </tr>\n",
              "    <tr>\n",
              "      <th>2</th>\n",
              "      <td>b80344d063b5ccb3212f76538f3d9e43d87dca9e</td>\n",
              "      <td>SOBXHDL12A81C204C0</td>\n",
              "      <td>1</td>\n",
              "      <td>Stronger</td>\n",
              "      <td>Graduation</td>\n",
              "      <td>Kanye West</td>\n",
              "      <td>2007</td>\n",
              "      <td>Stronger-Kanye West</td>\n",
              "    </tr>\n",
              "    <tr>\n",
              "      <th>3</th>\n",
              "      <td>b80344d063b5ccb3212f76538f3d9e43d87dca9e</td>\n",
              "      <td>SOBYHAJ12A6701BF1D</td>\n",
              "      <td>1</td>\n",
              "      <td>Constellations</td>\n",
              "      <td>In Between Dreams</td>\n",
              "      <td>Jack Johnson</td>\n",
              "      <td>2005</td>\n",
              "      <td>Constellations-Jack Johnson</td>\n",
              "    </tr>\n",
              "    <tr>\n",
              "      <th>4</th>\n",
              "      <td>b80344d063b5ccb3212f76538f3d9e43d87dca9e</td>\n",
              "      <td>SODACBL12A8C13C273</td>\n",
              "      <td>1</td>\n",
              "      <td>Learn To Fly</td>\n",
              "      <td>There Is Nothing Left To Lose</td>\n",
              "      <td>Foo Fighters</td>\n",
              "      <td>1999</td>\n",
              "      <td>Learn To Fly-Foo Fighters</td>\n",
              "    </tr>\n",
              "  </tbody>\n",
              "</table>\n",
              "</div>"
            ],
            "text/plain": [
              "                                    user_id             song_id  listen_count  \\\n",
              "0  b80344d063b5ccb3212f76538f3d9e43d87dca9e  SOAKIMP12A8C130995             1   \n",
              "1  b80344d063b5ccb3212f76538f3d9e43d87dca9e  SOBBMDR12A8C13253B             2   \n",
              "2  b80344d063b5ccb3212f76538f3d9e43d87dca9e  SOBXHDL12A81C204C0             1   \n",
              "3  b80344d063b5ccb3212f76538f3d9e43d87dca9e  SOBYHAJ12A6701BF1D             1   \n",
              "4  b80344d063b5ccb3212f76538f3d9e43d87dca9e  SODACBL12A8C13C273             1   \n",
              "\n",
              "             title                        release    artist_name  year  \\\n",
              "0         The Cove             Thicker Than Water   Jack Johnson     0   \n",
              "1  Entre Dos Aguas            Flamenco Para Niños  Paco De Lucia  1976   \n",
              "2         Stronger                     Graduation     Kanye West  2007   \n",
              "3   Constellations              In Between Dreams   Jack Johnson  2005   \n",
              "4     Learn To Fly  There Is Nothing Left To Lose   Foo Fighters  1999   \n",
              "\n",
              "                            song  \n",
              "0          The Cove-Jack Johnson  \n",
              "1  Entre Dos Aguas-Paco De Lucia  \n",
              "2            Stronger-Kanye West  \n",
              "3    Constellations-Jack Johnson  \n",
              "4      Learn To Fly-Foo Fighters  "
            ]
          },
          "execution_count": 8,
          "metadata": {},
          "output_type": "execute_result"
        }
      ]
    },
    {
      "cell_type": "code",
      "metadata": {
        "id": "eb42e2ea",
        "outputId": "90859262-41a3-409a-97ba-badbc8a1eb1b"
      },
      "source": [
        "song_df.tail()"
      ],
      "id": "eb42e2ea",
      "execution_count": null,
      "outputs": [
        {
          "data": {
            "text/html": [
              "<div>\n",
              "<style scoped>\n",
              "    .dataframe tbody tr th:only-of-type {\n",
              "        vertical-align: middle;\n",
              "    }\n",
              "\n",
              "    .dataframe tbody tr th {\n",
              "        vertical-align: top;\n",
              "    }\n",
              "\n",
              "    .dataframe thead th {\n",
              "        text-align: right;\n",
              "    }\n",
              "</style>\n",
              "<table border=\"1\" class=\"dataframe\">\n",
              "  <thead>\n",
              "    <tr style=\"text-align: right;\">\n",
              "      <th></th>\n",
              "      <th>user_id</th>\n",
              "      <th>song_id</th>\n",
              "      <th>listen_count</th>\n",
              "      <th>title</th>\n",
              "      <th>release</th>\n",
              "      <th>artist_name</th>\n",
              "      <th>year</th>\n",
              "      <th>song</th>\n",
              "    </tr>\n",
              "  </thead>\n",
              "  <tbody>\n",
              "    <tr>\n",
              "      <th>1999995</th>\n",
              "      <td>d8bfd4ec88f0f3773a9e022e3c1a0f1d3b7b6a92</td>\n",
              "      <td>SOJEYPO12AAA8C6B0E</td>\n",
              "      <td>2</td>\n",
              "      <td>Ignorance (Album Version)</td>\n",
              "      <td>Ignorance</td>\n",
              "      <td>Paramore</td>\n",
              "      <td>0</td>\n",
              "      <td>Ignorance (Album Version)-Paramore</td>\n",
              "    </tr>\n",
              "    <tr>\n",
              "      <th>1999996</th>\n",
              "      <td>d8bfd4ec88f0f3773a9e022e3c1a0f1d3b7b6a92</td>\n",
              "      <td>SOJJYDE12AF729FC16</td>\n",
              "      <td>4</td>\n",
              "      <td>Two Is Better Than One</td>\n",
              "      <td>Love Drunk</td>\n",
              "      <td>Boys Like Girls featuring Taylor Swift</td>\n",
              "      <td>2009</td>\n",
              "      <td>Two Is Better Than One-Boys Like Girls featuri...</td>\n",
              "    </tr>\n",
              "    <tr>\n",
              "      <th>1999997</th>\n",
              "      <td>d8bfd4ec88f0f3773a9e022e3c1a0f1d3b7b6a92</td>\n",
              "      <td>SOJKQSF12A6D4F5EE9</td>\n",
              "      <td>3</td>\n",
              "      <td>What I've Done (Album Version)</td>\n",
              "      <td>What I've Done</td>\n",
              "      <td>Linkin Park</td>\n",
              "      <td>2007</td>\n",
              "      <td>What I've Done (Album Version)-Linkin Park</td>\n",
              "    </tr>\n",
              "    <tr>\n",
              "      <th>1999998</th>\n",
              "      <td>d8bfd4ec88f0f3773a9e022e3c1a0f1d3b7b6a92</td>\n",
              "      <td>SOJUXGA12AC961885C</td>\n",
              "      <td>1</td>\n",
              "      <td>Up</td>\n",
              "      <td>My Worlds</td>\n",
              "      <td>Justin Bieber</td>\n",
              "      <td>2010</td>\n",
              "      <td>Up-Justin Bieber</td>\n",
              "    </tr>\n",
              "    <tr>\n",
              "      <th>1999999</th>\n",
              "      <td>d8bfd4ec88f0f3773a9e022e3c1a0f1d3b7b6a92</td>\n",
              "      <td>SOJYOLS12A8C13C06F</td>\n",
              "      <td>1</td>\n",
              "      <td>Soil_ Soil (Album Version)</td>\n",
              "      <td>The Con</td>\n",
              "      <td>Tegan And Sara</td>\n",
              "      <td>2007</td>\n",
              "      <td>Soil_ Soil (Album Version)-Tegan And Sara</td>\n",
              "    </tr>\n",
              "  </tbody>\n",
              "</table>\n",
              "</div>"
            ],
            "text/plain": [
              "                                          user_id             song_id  \\\n",
              "1999995  d8bfd4ec88f0f3773a9e022e3c1a0f1d3b7b6a92  SOJEYPO12AAA8C6B0E   \n",
              "1999996  d8bfd4ec88f0f3773a9e022e3c1a0f1d3b7b6a92  SOJJYDE12AF729FC16   \n",
              "1999997  d8bfd4ec88f0f3773a9e022e3c1a0f1d3b7b6a92  SOJKQSF12A6D4F5EE9   \n",
              "1999998  d8bfd4ec88f0f3773a9e022e3c1a0f1d3b7b6a92  SOJUXGA12AC961885C   \n",
              "1999999  d8bfd4ec88f0f3773a9e022e3c1a0f1d3b7b6a92  SOJYOLS12A8C13C06F   \n",
              "\n",
              "         listen_count                           title         release  \\\n",
              "1999995             2       Ignorance (Album Version)       Ignorance   \n",
              "1999996             4          Two Is Better Than One      Love Drunk   \n",
              "1999997             3  What I've Done (Album Version)  What I've Done   \n",
              "1999998             1                              Up       My Worlds   \n",
              "1999999             1      Soil_ Soil (Album Version)         The Con   \n",
              "\n",
              "                                    artist_name  year  \\\n",
              "1999995                                Paramore     0   \n",
              "1999996  Boys Like Girls featuring Taylor Swift  2009   \n",
              "1999997                             Linkin Park  2007   \n",
              "1999998                           Justin Bieber  2010   \n",
              "1999999                          Tegan And Sara  2007   \n",
              "\n",
              "                                                      song  \n",
              "1999995                 Ignorance (Album Version)-Paramore  \n",
              "1999996  Two Is Better Than One-Boys Like Girls featuri...  \n",
              "1999997         What I've Done (Album Version)-Linkin Park  \n",
              "1999998                                   Up-Justin Bieber  \n",
              "1999999          Soil_ Soil (Album Version)-Tegan And Sara  "
            ]
          },
          "execution_count": 9,
          "metadata": {},
          "output_type": "execute_result"
        }
      ]
    },
    {
      "cell_type": "markdown",
      "metadata": {
        "id": "40e4d676"
      },
      "source": [
        "# Data Visualisation"
      ],
      "id": "40e4d676"
    },
    {
      "cell_type": "markdown",
      "metadata": {
        "id": "260e0495"
      },
      "source": [
        "__Correlation between features__"
      ],
      "id": "260e0495"
    },
    {
      "cell_type": "code",
      "metadata": {
        "id": "59e4af92",
        "outputId": "ab81ce00-f552-45ef-f84a-6dcc4d92b826"
      },
      "source": [
        "song_df.columns"
      ],
      "id": "59e4af92",
      "execution_count": null,
      "outputs": [
        {
          "data": {
            "text/plain": [
              "Index(['user_id', 'song_id', 'listen_count', 'title', 'release', 'artist_name',\n",
              "       'year', 'song'],\n",
              "      dtype='object')"
            ]
          },
          "execution_count": 10,
          "metadata": {},
          "output_type": "execute_result"
        }
      ]
    },
    {
      "cell_type": "code",
      "metadata": {
        "id": "c5081b37",
        "outputId": "e042ee21-de81-44ba-e3a4-cf9879a2495a"
      },
      "source": [
        "song_corr=song_df.corr()\n",
        "print(song_corr)"
      ],
      "id": "c5081b37",
      "execution_count": null,
      "outputs": [
        {
          "name": "stdout",
          "output_type": "stream",
          "text": [
            "              listen_count      year\n",
            "listen_count      1.000000 -0.021302\n",
            "year             -0.021302  1.000000\n"
          ]
        }
      ]
    },
    {
      "cell_type": "markdown",
      "metadata": {
        "id": "396f8614"
      },
      "source": [
        "__Most listened songs__"
      ],
      "id": "396f8614"
    },
    {
      "cell_type": "code",
      "metadata": {
        "id": "9127f70f",
        "outputId": "c3ff2111-6f69-4336-9a5e-fa002873c7b9"
      },
      "source": [
        "#Top 15\n",
        "plt.style.use('seaborn')\n",
        "sns.barplot(x=song_df['song'].value_counts()[:15].values,y=song_df['song'].value_counts()[:15].index)\n",
        "plt.xlabel('No. of persons')\n",
        "plt.ylabel('Song title')\n",
        "plt.title('Most listened songs')"
      ],
      "id": "9127f70f",
      "execution_count": null,
      "outputs": [
        {
          "data": {
            "text/plain": [
              "Text(0.5, 1.0, 'Most listened songs')"
            ]
          },
          "execution_count": 12,
          "metadata": {},
          "output_type": "execute_result"
        },
        {
          "data": {
            "image/png": "[encoded data removed]",
            "text/plain": [
              "<Figure size 576x396 with 1 Axes>"
            ]
          },
          "metadata": {},
          "output_type": "display_data"
        }
      ]
    },
    {
      "cell_type": "markdown",
      "metadata": {
        "id": "1e584575"
      },
      "source": [
        "__Reducing the size of dataset__"
      ],
      "id": "1e584575"
    },
    {
      "cell_type": "code",
      "metadata": {
        "id": "e1b45fbd"
      },
      "source": [
        "song_df=song_df.head(100000)"
      ],
      "id": "e1b45fbd",
      "execution_count": null,
      "outputs": []
    },
    {
      "cell_type": "markdown",
      "metadata": {
        "id": "5cf16419"
      },
      "source": [
        "__Sum of listen_count of different songs__"
      ],
      "id": "5cf16419"
    },
    {
      "cell_type": "code",
      "metadata": {
        "id": "57bce49c",
        "outputId": "84b727fd-6ab9-4e85-df56-073ea12f3a57"
      },
      "source": [
        "song_grouped=song_df.groupby(['song']).agg({'listen_count':'count'}).reset_index()\n",
        "song_grouped.head()"
      ],
      "id": "57bce49c",
      "execution_count": null,
      "outputs": [
        {
          "data": {
            "text/html": [
              "<div>\n",
              "<style scoped>\n",
              "    .dataframe tbody tr th:only-of-type {\n",
              "        vertical-align: middle;\n",
              "    }\n",
              "\n",
              "    .dataframe tbody tr th {\n",
              "        vertical-align: top;\n",
              "    }\n",
              "\n",
              "    .dataframe thead th {\n",
              "        text-align: right;\n",
              "    }\n",
              "</style>\n",
              "<table border=\"1\" class=\"dataframe\">\n",
              "  <thead>\n",
              "    <tr style=\"text-align: right;\">\n",
              "      <th></th>\n",
              "      <th>song</th>\n",
              "      <th>listen_count</th>\n",
              "    </tr>\n",
              "  </thead>\n",
              "  <tbody>\n",
              "    <tr>\n",
              "      <th>0</th>\n",
              "      <td>#!*@ You Tonight [Featuring R. Kelly] (Explici...</td>\n",
              "      <td>2</td>\n",
              "    </tr>\n",
              "    <tr>\n",
              "      <th>1</th>\n",
              "      <td>#40-DAVE MATTHEWS BAND</td>\n",
              "      <td>9</td>\n",
              "    </tr>\n",
              "    <tr>\n",
              "      <th>2</th>\n",
              "      <td>&amp; Down-Boys Noize</td>\n",
              "      <td>25</td>\n",
              "    </tr>\n",
              "    <tr>\n",
              "      <th>3</th>\n",
              "      <td>' Cello Song-Nick Drake</td>\n",
              "      <td>3</td>\n",
              "    </tr>\n",
              "    <tr>\n",
              "      <th>4</th>\n",
              "      <td>'97 Bonnie &amp; Clyde-Eminem</td>\n",
              "      <td>10</td>\n",
              "    </tr>\n",
              "  </tbody>\n",
              "</table>\n",
              "</div>"
            ],
            "text/plain": [
              "                                                song  listen_count\n",
              "0  #!*@ You Tonight [Featuring R. Kelly] (Explici...             2\n",
              "1                             #40-DAVE MATTHEWS BAND             9\n",
              "2                                  & Down-Boys Noize            25\n",
              "3                            ' Cello Song-Nick Drake             3\n",
              "4                          '97 Bonnie & Clyde-Eminem            10"
            ]
          },
          "execution_count": 14,
          "metadata": {},
          "output_type": "execute_result"
        }
      ]
    },
    {
      "cell_type": "markdown",
      "metadata": {
        "id": "218bce1f"
      },
      "source": [
        "__Most listened songs and their corresponding percentage__"
      ],
      "id": "218bce1f"
    },
    {
      "cell_type": "code",
      "metadata": {
        "id": "9b1a4015",
        "outputId": "2d5c077c-cb77-437a-cf37-950bdd6670af"
      },
      "source": [
        "grouped_sum=song_grouped['listen_count'].sum()\n",
        "song_grouped['percentage']=(song_grouped['listen_count']/grouped_sum)*100\n",
        "song_grouped.sort_values(['listen_count','song'],ascending=[0,1])"
      ],
      "id": "9b1a4015",
      "execution_count": null,
      "outputs": [
        {
          "data": {
            "text/html": [
              "<div>\n",
              "<style scoped>\n",
              "    .dataframe tbody tr th:only-of-type {\n",
              "        vertical-align: middle;\n",
              "    }\n",
              "\n",
              "    .dataframe tbody tr th {\n",
              "        vertical-align: top;\n",
              "    }\n",
              "\n",
              "    .dataframe thead th {\n",
              "        text-align: right;\n",
              "    }\n",
              "</style>\n",
              "<table border=\"1\" class=\"dataframe\">\n",
              "  <thead>\n",
              "    <tr style=\"text-align: right;\">\n",
              "      <th></th>\n",
              "      <th>song</th>\n",
              "      <th>listen_count</th>\n",
              "      <th>percentage</th>\n",
              "    </tr>\n",
              "  </thead>\n",
              "  <tbody>\n",
              "    <tr>\n",
              "      <th>7079</th>\n",
              "      <td>Sehr kosmisch-Harmonia</td>\n",
              "      <td>427</td>\n",
              "      <td>0.427</td>\n",
              "    </tr>\n",
              "    <tr>\n",
              "      <th>9030</th>\n",
              "      <td>Undo-Björk</td>\n",
              "      <td>367</td>\n",
              "      <td>0.367</td>\n",
              "    </tr>\n",
              "    <tr>\n",
              "      <th>2052</th>\n",
              "      <td>Dog Days Are Over (Radio Edit)-Florence + The ...</td>\n",
              "      <td>363</td>\n",
              "      <td>0.363</td>\n",
              "    </tr>\n",
              "    <tr>\n",
              "      <th>9815</th>\n",
              "      <td>You're The One-Dwight Yoakam</td>\n",
              "      <td>317</td>\n",
              "      <td>0.317</td>\n",
              "    </tr>\n",
              "    <tr>\n",
              "      <th>7067</th>\n",
              "      <td>Secrets-OneRepublic</td>\n",
              "      <td>308</td>\n",
              "      <td>0.308</td>\n",
              "    </tr>\n",
              "    <tr>\n",
              "      <th>...</th>\n",
              "      <td>...</td>\n",
              "      <td>...</td>\n",
              "      <td>...</td>\n",
              "    </tr>\n",
              "    <tr>\n",
              "      <th>9743</th>\n",
              "      <td>You Don\u0019t Understand Me-The Raconteurs</td>\n",
              "      <td>1</td>\n",
              "      <td>0.001</td>\n",
              "    </tr>\n",
              "    <tr>\n",
              "      <th>9785</th>\n",
              "      <td>You Shouldn't Kiss Me Like This-Toby Keith</td>\n",
              "      <td>1</td>\n",
              "      <td>0.001</td>\n",
              "    </tr>\n",
              "    <tr>\n",
              "      <th>9808</th>\n",
              "      <td>You're In My Heart-Rhonda Vincent</td>\n",
              "      <td>1</td>\n",
              "      <td>0.001</td>\n",
              "    </tr>\n",
              "    <tr>\n",
              "      <th>9853</th>\n",
              "      <td>Your Time Has Come-Audioslave</td>\n",
              "      <td>1</td>\n",
              "      <td>0.001</td>\n",
              "    </tr>\n",
              "    <tr>\n",
              "      <th>9883</th>\n",
              "      <td>smile around the face-Four Tet</td>\n",
              "      <td>1</td>\n",
              "      <td>0.001</td>\n",
              "    </tr>\n",
              "  </tbody>\n",
              "</table>\n",
              "<p>9891 rows × 3 columns</p>\n",
              "</div>"
            ],
            "text/plain": [
              "                                                   song  listen_count  \\\n",
              "7079                             Sehr kosmisch-Harmonia           427   \n",
              "9030                                         Undo-Björk           367   \n",
              "2052  Dog Days Are Over (Radio Edit)-Florence + The ...           363   \n",
              "9815                       You're The One-Dwight Yoakam           317   \n",
              "7067                                Secrets-OneRepublic           308   \n",
              "...                                                 ...           ...   \n",
              "9743             You Don\u0019t Understand Me-The Raconteurs             1   \n",
              "9785         You Shouldn't Kiss Me Like This-Toby Keith             1   \n",
              "9808                  You're In My Heart-Rhonda Vincent             1   \n",
              "9853                      Your Time Has Come-Audioslave             1   \n",
              "9883                     smile around the face-Four Tet             1   \n",
              "\n",
              "      percentage  \n",
              "7079       0.427  \n",
              "9030       0.367  \n",
              "2052       0.363  \n",
              "9815       0.317  \n",
              "7067       0.308  \n",
              "...          ...  \n",
              "9743       0.001  \n",
              "9785       0.001  \n",
              "9808       0.001  \n",
              "9853       0.001  \n",
              "9883       0.001  \n",
              "\n",
              "[9891 rows x 3 columns]"
            ]
          },
          "execution_count": 15,
          "metadata": {},
          "output_type": "execute_result"
        }
      ]
    },
    {
      "cell_type": "markdown",
      "metadata": {
        "id": "51e14d77"
      },
      "source": [
        "__Recommendation Engine based on Popularity of Songs__"
      ],
      "id": "51e14d77"
    },
    {
      "cell_type": "code",
      "metadata": {
        "id": "ac460b8d"
      },
      "source": [
        "pr=Recommenders.popularity_recommender_py()"
      ],
      "id": "ac460b8d",
      "execution_count": null,
      "outputs": []
    },
    {
      "cell_type": "code",
      "metadata": {
        "id": "46b6adbc"
      },
      "source": [
        "pr.create(song_df,'user_id','song')"
      ],
      "id": "46b6adbc",
      "execution_count": null,
      "outputs": []
    },
    {
      "cell_type": "code",
      "metadata": {
        "id": "ad85987d",
        "outputId": "2c686364-e4be-4981-9cf1-1daa7224b142"
      },
      "source": [
        "pr.recommend(song_df['user_id'][5])"
      ],
      "id": "ad85987d",
      "execution_count": null,
      "outputs": [
        {
          "data": {
            "text/html": [
              "<div>\n",
              "<style scoped>\n",
              "    .dataframe tbody tr th:only-of-type {\n",
              "        vertical-align: middle;\n",
              "    }\n",
              "\n",
              "    .dataframe tbody tr th {\n",
              "        vertical-align: top;\n",
              "    }\n",
              "\n",
              "    .dataframe thead th {\n",
              "        text-align: right;\n",
              "    }\n",
              "</style>\n",
              "<table border=\"1\" class=\"dataframe\">\n",
              "  <thead>\n",
              "    <tr style=\"text-align: right;\">\n",
              "      <th></th>\n",
              "      <th>user_id</th>\n",
              "      <th>song</th>\n",
              "      <th>score</th>\n",
              "      <th>Rank</th>\n",
              "    </tr>\n",
              "  </thead>\n",
              "  <tbody>\n",
              "    <tr>\n",
              "      <th>7079</th>\n",
              "      <td>b80344d063b5ccb3212f76538f3d9e43d87dca9e</td>\n",
              "      <td>Sehr kosmisch-Harmonia</td>\n",
              "      <td>427</td>\n",
              "      <td>1.0</td>\n",
              "    </tr>\n",
              "    <tr>\n",
              "      <th>9030</th>\n",
              "      <td>b80344d063b5ccb3212f76538f3d9e43d87dca9e</td>\n",
              "      <td>Undo-Björk</td>\n",
              "      <td>367</td>\n",
              "      <td>2.0</td>\n",
              "    </tr>\n",
              "    <tr>\n",
              "      <th>2052</th>\n",
              "      <td>b80344d063b5ccb3212f76538f3d9e43d87dca9e</td>\n",
              "      <td>Dog Days Are Over (Radio Edit)-Florence + The ...</td>\n",
              "      <td>363</td>\n",
              "      <td>3.0</td>\n",
              "    </tr>\n",
              "    <tr>\n",
              "      <th>9815</th>\n",
              "      <td>b80344d063b5ccb3212f76538f3d9e43d87dca9e</td>\n",
              "      <td>You're The One-Dwight Yoakam</td>\n",
              "      <td>317</td>\n",
              "      <td>4.0</td>\n",
              "    </tr>\n",
              "    <tr>\n",
              "      <th>7067</th>\n",
              "      <td>b80344d063b5ccb3212f76538f3d9e43d87dca9e</td>\n",
              "      <td>Secrets-OneRepublic</td>\n",
              "      <td>308</td>\n",
              "      <td>5.0</td>\n",
              "    </tr>\n",
              "    <tr>\n",
              "      <th>6727</th>\n",
              "      <td>b80344d063b5ccb3212f76538f3d9e43d87dca9e</td>\n",
              "      <td>Revelry-Kings Of Leon</td>\n",
              "      <td>306</td>\n",
              "      <td>6.0</td>\n",
              "    </tr>\n",
              "    <tr>\n",
              "      <th>3587</th>\n",
              "      <td>b80344d063b5ccb3212f76538f3d9e43d87dca9e</td>\n",
              "      <td>Horn Concerto No. 4 in E flat K495: II. Romanc...</td>\n",
              "      <td>266</td>\n",
              "      <td>7.0</td>\n",
              "    </tr>\n",
              "    <tr>\n",
              "      <th>2695</th>\n",
              "      <td>b80344d063b5ccb3212f76538f3d9e43d87dca9e</td>\n",
              "      <td>Fireflies-Charttraxx Karaoke</td>\n",
              "      <td>258</td>\n",
              "      <td>8.0</td>\n",
              "    </tr>\n",
              "    <tr>\n",
              "      <th>8793</th>\n",
              "      <td>b80344d063b5ccb3212f76538f3d9e43d87dca9e</td>\n",
              "      <td>Tive Sim-Cartola</td>\n",
              "      <td>246</td>\n",
              "      <td>9.0</td>\n",
              "    </tr>\n",
              "    <tr>\n",
              "      <th>3460</th>\n",
              "      <td>b80344d063b5ccb3212f76538f3d9e43d87dca9e</td>\n",
              "      <td>Hey_ Soul Sister-Train</td>\n",
              "      <td>235</td>\n",
              "      <td>10.0</td>\n",
              "    </tr>\n",
              "  </tbody>\n",
              "</table>\n",
              "</div>"
            ],
            "text/plain": [
              "                                       user_id  \\\n",
              "7079  b80344d063b5ccb3212f76538f3d9e43d87dca9e   \n",
              "9030  b80344d063b5ccb3212f76538f3d9e43d87dca9e   \n",
              "2052  b80344d063b5ccb3212f76538f3d9e43d87dca9e   \n",
              "9815  b80344d063b5ccb3212f76538f3d9e43d87dca9e   \n",
              "7067  b80344d063b5ccb3212f76538f3d9e43d87dca9e   \n",
              "6727  b80344d063b5ccb3212f76538f3d9e43d87dca9e   \n",
              "3587  b80344d063b5ccb3212f76538f3d9e43d87dca9e   \n",
              "2695  b80344d063b5ccb3212f76538f3d9e43d87dca9e   \n",
              "8793  b80344d063b5ccb3212f76538f3d9e43d87dca9e   \n",
              "3460  b80344d063b5ccb3212f76538f3d9e43d87dca9e   \n",
              "\n",
              "                                                   song  score  Rank  \n",
              "7079                             Sehr kosmisch-Harmonia    427   1.0  \n",
              "9030                                         Undo-Björk    367   2.0  \n",
              "2052  Dog Days Are Over (Radio Edit)-Florence + The ...    363   3.0  \n",
              "9815                       You're The One-Dwight Yoakam    317   4.0  \n",
              "7067                                Secrets-OneRepublic    308   5.0  \n",
              "6727                              Revelry-Kings Of Leon    306   6.0  \n",
              "3587  Horn Concerto No. 4 in E flat K495: II. Romanc...    266   7.0  \n",
              "2695                       Fireflies-Charttraxx Karaoke    258   8.0  \n",
              "8793                                   Tive Sim-Cartola    246   9.0  \n",
              "3460                             Hey_ Soul Sister-Train    235  10.0  "
            ]
          },
          "execution_count": 18,
          "metadata": {},
          "output_type": "execute_result"
        }
      ]
    },
    {
      "cell_type": "code",
      "metadata": {
        "id": "d7a62790",
        "outputId": "8e83f31f-0ce7-4420-fcdf-489dbdd43d2f"
      },
      "source": [
        "pr.recommend(song_df['user_id'][10])"
      ],
      "id": "d7a62790",
      "execution_count": null,
      "outputs": [
        {
          "data": {
            "text/html": [
              "<div>\n",
              "<style scoped>\n",
              "    .dataframe tbody tr th:only-of-type {\n",
              "        vertical-align: middle;\n",
              "    }\n",
              "\n",
              "    .dataframe tbody tr th {\n",
              "        vertical-align: top;\n",
              "    }\n",
              "\n",
              "    .dataframe thead th {\n",
              "        text-align: right;\n",
              "    }\n",
              "</style>\n",
              "<table border=\"1\" class=\"dataframe\">\n",
              "  <thead>\n",
              "    <tr style=\"text-align: right;\">\n",
              "      <th></th>\n",
              "      <th>user_id</th>\n",
              "      <th>song</th>\n",
              "      <th>score</th>\n",
              "      <th>Rank</th>\n",
              "    </tr>\n",
              "  </thead>\n",
              "  <tbody>\n",
              "    <tr>\n",
              "      <th>7079</th>\n",
              "      <td>b80344d063b5ccb3212f76538f3d9e43d87dca9e</td>\n",
              "      <td>Sehr kosmisch-Harmonia</td>\n",
              "      <td>427</td>\n",
              "      <td>1.0</td>\n",
              "    </tr>\n",
              "    <tr>\n",
              "      <th>9030</th>\n",
              "      <td>b80344d063b5ccb3212f76538f3d9e43d87dca9e</td>\n",
              "      <td>Undo-Björk</td>\n",
              "      <td>367</td>\n",
              "      <td>2.0</td>\n",
              "    </tr>\n",
              "    <tr>\n",
              "      <th>2052</th>\n",
              "      <td>b80344d063b5ccb3212f76538f3d9e43d87dca9e</td>\n",
              "      <td>Dog Days Are Over (Radio Edit)-Florence + The ...</td>\n",
              "      <td>363</td>\n",
              "      <td>3.0</td>\n",
              "    </tr>\n",
              "    <tr>\n",
              "      <th>9815</th>\n",
              "      <td>b80344d063b5ccb3212f76538f3d9e43d87dca9e</td>\n",
              "      <td>You're The One-Dwight Yoakam</td>\n",
              "      <td>317</td>\n",
              "      <td>4.0</td>\n",
              "    </tr>\n",
              "    <tr>\n",
              "      <th>7067</th>\n",
              "      <td>b80344d063b5ccb3212f76538f3d9e43d87dca9e</td>\n",
              "      <td>Secrets-OneRepublic</td>\n",
              "      <td>308</td>\n",
              "      <td>5.0</td>\n",
              "    </tr>\n",
              "    <tr>\n",
              "      <th>6727</th>\n",
              "      <td>b80344d063b5ccb3212f76538f3d9e43d87dca9e</td>\n",
              "      <td>Revelry-Kings Of Leon</td>\n",
              "      <td>306</td>\n",
              "      <td>6.0</td>\n",
              "    </tr>\n",
              "    <tr>\n",
              "      <th>3587</th>\n",
              "      <td>b80344d063b5ccb3212f76538f3d9e43d87dca9e</td>\n",
              "      <td>Horn Concerto No. 4 in E flat K495: II. Romanc...</td>\n",
              "      <td>266</td>\n",
              "      <td>7.0</td>\n",
              "    </tr>\n",
              "    <tr>\n",
              "      <th>2695</th>\n",
              "      <td>b80344d063b5ccb3212f76538f3d9e43d87dca9e</td>\n",
              "      <td>Fireflies-Charttraxx Karaoke</td>\n",
              "      <td>258</td>\n",
              "      <td>8.0</td>\n",
              "    </tr>\n",
              "    <tr>\n",
              "      <th>8793</th>\n",
              "      <td>b80344d063b5ccb3212f76538f3d9e43d87dca9e</td>\n",
              "      <td>Tive Sim-Cartola</td>\n",
              "      <td>246</td>\n",
              "      <td>9.0</td>\n",
              "    </tr>\n",
              "    <tr>\n",
              "      <th>3460</th>\n",
              "      <td>b80344d063b5ccb3212f76538f3d9e43d87dca9e</td>\n",
              "      <td>Hey_ Soul Sister-Train</td>\n",
              "      <td>235</td>\n",
              "      <td>10.0</td>\n",
              "    </tr>\n",
              "  </tbody>\n",
              "</table>\n",
              "</div>"
            ],
            "text/plain": [
              "                                       user_id  \\\n",
              "7079  b80344d063b5ccb3212f76538f3d9e43d87dca9e   \n",
              "9030  b80344d063b5ccb3212f76538f3d9e43d87dca9e   \n",
              "2052  b80344d063b5ccb3212f76538f3d9e43d87dca9e   \n",
              "9815  b80344d063b5ccb3212f76538f3d9e43d87dca9e   \n",
              "7067  b80344d063b5ccb3212f76538f3d9e43d87dca9e   \n",
              "6727  b80344d063b5ccb3212f76538f3d9e43d87dca9e   \n",
              "3587  b80344d063b5ccb3212f76538f3d9e43d87dca9e   \n",
              "2695  b80344d063b5ccb3212f76538f3d9e43d87dca9e   \n",
              "8793  b80344d063b5ccb3212f76538f3d9e43d87dca9e   \n",
              "3460  b80344d063b5ccb3212f76538f3d9e43d87dca9e   \n",
              "\n",
              "                                                   song  score  Rank  \n",
              "7079                             Sehr kosmisch-Harmonia    427   1.0  \n",
              "9030                                         Undo-Björk    367   2.0  \n",
              "2052  Dog Days Are Over (Radio Edit)-Florence + The ...    363   3.0  \n",
              "9815                       You're The One-Dwight Yoakam    317   4.0  \n",
              "7067                                Secrets-OneRepublic    308   5.0  \n",
              "6727                              Revelry-Kings Of Leon    306   6.0  \n",
              "3587  Horn Concerto No. 4 in E flat K495: II. Romanc...    266   7.0  \n",
              "2695                       Fireflies-Charttraxx Karaoke    258   8.0  \n",
              "8793                                   Tive Sim-Cartola    246   9.0  \n",
              "3460                             Hey_ Soul Sister-Train    235  10.0  "
            ]
          },
          "execution_count": 19,
          "metadata": {},
          "output_type": "execute_result"
        }
      ]
    },
    {
      "cell_type": "markdown",
      "metadata": {
        "id": "6c11c729"
      },
      "source": [
        "# Item Similarity Recommendation"
      ],
      "id": "6c11c729"
    },
    {
      "cell_type": "code",
      "metadata": {
        "id": "64f08e5f"
      },
      "source": [
        "ir=Recommenders.item_similarity_recommender_py()\n",
        "ir.create(song_df,'user_id','song')"
      ],
      "id": "64f08e5f",
      "execution_count": null,
      "outputs": []
    },
    {
      "cell_type": "code",
      "metadata": {
        "id": "2adfc287"
      },
      "source": [
        "#for user_id=100\n",
        "user_items=ir.get_user_items(song_df['user_id'][100])"
      ],
      "id": "2adfc287",
      "execution_count": null,
      "outputs": []
    },
    {
      "cell_type": "code",
      "metadata": {
        "id": "606b5b8d",
        "outputId": "107bc39e-f948-4794-f3d2-d5a5b3e95498"
      },
      "source": [
        "for user_item in user_items:\n",
        "    print(user_item)"
      ],
      "id": "606b5b8d",
      "execution_count": null,
      "outputs": [
        {
          "name": "stdout",
          "output_type": "stream",
          "text": [
            "Undo-Björk\n",
            "Dog Days Are Over (Radio Edit)-Florence + The Machine\n",
            "High Life-Daft Punk\n",
            "You're The One-Dwight Yoakam\n",
            "Where Did You Sleep Last Night-Nirvana\n",
            "Come As You Are-Nirvana\n",
            "Hey_ Soul Sister-Train\n",
            "Horn Concerto No. 4 in E flat K495: II. Romance (Andante cantabile)-Barry Tuckwell/Academy of St Martin-in-the-Fields/Sir Neville Marriner\n",
            "Rhyme & Reason-DAVE MATTHEWS BAND\n",
            "Sehr kosmisch-Harmonia\n",
            "Someone Else's Arms-Mae\n",
            "Cry For Help (Album Version)-Shinedown\n",
            "Lady In Black-Ensiferum\n",
            "For You (Amended/Radio Edit LP)-Staind\n",
            "Fireflies-Charttraxx Karaoke\n",
            "Secrets-OneRepublic\n",
            "Esta Es Para Hacerte Féliz-Jorge Gonzalez\n",
            "Revelry-Kings Of Leon\n",
            "Marry Me-Train\n",
            "OMG-Usher featuring will.i.am\n",
            "Drop The World-Lil Wayne / Eminem\n",
            "Ain't Misbehavin-Sam Cooke\n",
            "Blow Me Away-Breaking Benjamin\n",
            "Use Somebody-Kings Of Leon\n",
            "Corn Bread-DAVE MATTHEWS BAND\n"
          ]
        }
      ]
    },
    {
      "cell_type": "code",
      "metadata": {
        "id": "7c0181b9",
        "outputId": "a8c449f1-8d84-4e53-a916-ab36a76c970d"
      },
      "source": [
        "ir.recommend(song_df['user_id'][100])"
      ],
      "id": "7c0181b9",
      "execution_count": null,
      "outputs": [
        {
          "name": "stdout",
          "output_type": "stream",
          "text": [
            "No. of unique songs for the user: 25\n",
            "no. of unique songs in the training set: 9891\n",
            "Non zero values in cooccurence_matrix :71531\n"
          ]
        },
        {
          "data": {
            "text/html": [
              "<div>\n",
              "<style scoped>\n",
              "    .dataframe tbody tr th:only-of-type {\n",
              "        vertical-align: middle;\n",
              "    }\n",
              "\n",
              "    .dataframe tbody tr th {\n",
              "        vertical-align: top;\n",
              "    }\n",
              "\n",
              "    .dataframe thead th {\n",
              "        text-align: right;\n",
              "    }\n",
              "</style>\n",
              "<table border=\"1\" class=\"dataframe\">\n",
              "  <thead>\n",
              "    <tr style=\"text-align: right;\">\n",
              "      <th></th>\n",
              "      <th>user_id</th>\n",
              "      <th>song</th>\n",
              "      <th>score</th>\n",
              "      <th>rank</th>\n",
              "    </tr>\n",
              "  </thead>\n",
              "  <tbody>\n",
              "    <tr>\n",
              "      <th>0</th>\n",
              "      <td>e006b1a48f466bf59feefed32bec6494495a4436</td>\n",
              "      <td>Pursuit Of Happiness (nightmare)-Kid Cudi / MG...</td>\n",
              "      <td>0.087215</td>\n",
              "      <td>1</td>\n",
              "    </tr>\n",
              "    <tr>\n",
              "      <th>1</th>\n",
              "      <td>e006b1a48f466bf59feefed32bec6494495a4436</td>\n",
              "      <td>Lucky (Album Version)-Jason Mraz &amp; Colbie Caillat</td>\n",
              "      <td>0.084807</td>\n",
              "      <td>2</td>\n",
              "    </tr>\n",
              "    <tr>\n",
              "      <th>2</th>\n",
              "      <td>e006b1a48f466bf59feefed32bec6494495a4436</td>\n",
              "      <td>Somebody To Love-Justin Bieber</td>\n",
              "      <td>0.084336</td>\n",
              "      <td>3</td>\n",
              "    </tr>\n",
              "    <tr>\n",
              "      <th>3</th>\n",
              "      <td>e006b1a48f466bf59feefed32bec6494495a4436</td>\n",
              "      <td>The Scientist-Coldplay</td>\n",
              "      <td>0.080528</td>\n",
              "      <td>4</td>\n",
              "    </tr>\n",
              "    <tr>\n",
              "      <th>4</th>\n",
              "      <td>e006b1a48f466bf59feefed32bec6494495a4436</td>\n",
              "      <td>Love Story-Taylor Swift</td>\n",
              "      <td>0.074978</td>\n",
              "      <td>5</td>\n",
              "    </tr>\n",
              "    <tr>\n",
              "      <th>5</th>\n",
              "      <td>e006b1a48f466bf59feefed32bec6494495a4436</td>\n",
              "      <td>The Only Exception (Album Version)-Paramore</td>\n",
              "      <td>0.074513</td>\n",
              "      <td>6</td>\n",
              "    </tr>\n",
              "    <tr>\n",
              "      <th>6</th>\n",
              "      <td>e006b1a48f466bf59feefed32bec6494495a4436</td>\n",
              "      <td>Alejandro-Lady GaGa</td>\n",
              "      <td>0.073897</td>\n",
              "      <td>7</td>\n",
              "    </tr>\n",
              "    <tr>\n",
              "      <th>7</th>\n",
              "      <td>e006b1a48f466bf59feefed32bec6494495a4436</td>\n",
              "      <td>Heartbreak Warfare-John Mayer</td>\n",
              "      <td>0.073183</td>\n",
              "      <td>8</td>\n",
              "    </tr>\n",
              "    <tr>\n",
              "      <th>8</th>\n",
              "      <td>e006b1a48f466bf59feefed32bec6494495a4436</td>\n",
              "      <td>Tive Sim-Cartola</td>\n",
              "      <td>0.070916</td>\n",
              "      <td>9</td>\n",
              "    </tr>\n",
              "    <tr>\n",
              "      <th>9</th>\n",
              "      <td>e006b1a48f466bf59feefed32bec6494495a4436</td>\n",
              "      <td>Bleed It Out [Live At Milton Keynes]-Linkin Park</td>\n",
              "      <td>0.069638</td>\n",
              "      <td>10</td>\n",
              "    </tr>\n",
              "  </tbody>\n",
              "</table>\n",
              "</div>"
            ],
            "text/plain": [
              "                                    user_id  \\\n",
              "0  e006b1a48f466bf59feefed32bec6494495a4436   \n",
              "1  e006b1a48f466bf59feefed32bec6494495a4436   \n",
              "2  e006b1a48f466bf59feefed32bec6494495a4436   \n",
              "3  e006b1a48f466bf59feefed32bec6494495a4436   \n",
              "4  e006b1a48f466bf59feefed32bec6494495a4436   \n",
              "5  e006b1a48f466bf59feefed32bec6494495a4436   \n",
              "6  e006b1a48f466bf59feefed32bec6494495a4436   \n",
              "7  e006b1a48f466bf59feefed32bec6494495a4436   \n",
              "8  e006b1a48f466bf59feefed32bec6494495a4436   \n",
              "9  e006b1a48f466bf59feefed32bec6494495a4436   \n",
              "\n",
              "                                                song     score rank  \n",
              "0  Pursuit Of Happiness (nightmare)-Kid Cudi / MG...  0.087215    1  \n",
              "1  Lucky (Album Version)-Jason Mraz & Colbie Caillat  0.084807    2  \n",
              "2                     Somebody To Love-Justin Bieber  0.084336    3  \n",
              "3                             The Scientist-Coldplay  0.080528    4  \n",
              "4                            Love Story-Taylor Swift  0.074978    5  \n",
              "5        The Only Exception (Album Version)-Paramore  0.074513    6  \n",
              "6                                Alejandro-Lady GaGa  0.073897    7  \n",
              "7                      Heartbreak Warfare-John Mayer  0.073183    8  \n",
              "8                                   Tive Sim-Cartola  0.070916    9  \n",
              "9   Bleed It Out [Live At Milton Keynes]-Linkin Park  0.069638   10  "
            ]
          },
          "execution_count": 23,
          "metadata": {},
          "output_type": "execute_result"
        }
      ]
    },
    {
      "cell_type": "code",
      "metadata": {
        "id": "cc54bea4",
        "outputId": "6e01d26c-64c9-40ae-bd55-a422e5bd0f5e"
      },
      "source": [
        "ir.get_similar_items(['U Smile-Justin Bieber'])"
      ],
      "id": "cc54bea4",
      "execution_count": null,
      "outputs": [
        {
          "name": "stdout",
          "output_type": "stream",
          "text": [
            "no. of unique songs in the training set: 9891\n",
            "Non zero values in cooccurence_matrix :2098\n"
          ]
        },
        {
          "data": {
            "text/html": [
              "<div>\n",
              "<style scoped>\n",
              "    .dataframe tbody tr th:only-of-type {\n",
              "        vertical-align: middle;\n",
              "    }\n",
              "\n",
              "    .dataframe tbody tr th {\n",
              "        vertical-align: top;\n",
              "    }\n",
              "\n",
              "    .dataframe thead th {\n",
              "        text-align: right;\n",
              "    }\n",
              "</style>\n",
              "<table border=\"1\" class=\"dataframe\">\n",
              "  <thead>\n",
              "    <tr style=\"text-align: right;\">\n",
              "      <th></th>\n",
              "      <th>user_id</th>\n",
              "      <th>song</th>\n",
              "      <th>score</th>\n",
              "      <th>rank</th>\n",
              "    </tr>\n",
              "  </thead>\n",
              "  <tbody>\n",
              "    <tr>\n",
              "      <th>0</th>\n",
              "      <td></td>\n",
              "      <td>Eenie Meenie-Sean Kingston and Justin Bieber</td>\n",
              "      <td>0.298387</td>\n",
              "      <td>1</td>\n",
              "    </tr>\n",
              "    <tr>\n",
              "      <th>1</th>\n",
              "      <td></td>\n",
              "      <td>Somebody To Love-Justin Bieber</td>\n",
              "      <td>0.297619</td>\n",
              "      <td>2</td>\n",
              "    </tr>\n",
              "    <tr>\n",
              "      <th>2</th>\n",
              "      <td></td>\n",
              "      <td>Love Me-Justin Bieber</td>\n",
              "      <td>0.289720</td>\n",
              "      <td>3</td>\n",
              "    </tr>\n",
              "    <tr>\n",
              "      <th>3</th>\n",
              "      <td></td>\n",
              "      <td>One Less Lonely Girl-Justin Bieber</td>\n",
              "      <td>0.264151</td>\n",
              "      <td>4</td>\n",
              "    </tr>\n",
              "    <tr>\n",
              "      <th>4</th>\n",
              "      <td></td>\n",
              "      <td>One Time-Justin Bieber</td>\n",
              "      <td>0.230769</td>\n",
              "      <td>5</td>\n",
              "    </tr>\n",
              "    <tr>\n",
              "      <th>5</th>\n",
              "      <td></td>\n",
              "      <td>That Should Be Me-Justin Bieber</td>\n",
              "      <td>0.174312</td>\n",
              "      <td>6</td>\n",
              "    </tr>\n",
              "    <tr>\n",
              "      <th>6</th>\n",
              "      <td></td>\n",
              "      <td>Down To Earth-Justin Bieber</td>\n",
              "      <td>0.168421</td>\n",
              "      <td>7</td>\n",
              "    </tr>\n",
              "    <tr>\n",
              "      <th>7</th>\n",
              "      <td></td>\n",
              "      <td>Heartbreak Warfare-John Mayer</td>\n",
              "      <td>0.163636</td>\n",
              "      <td>8</td>\n",
              "    </tr>\n",
              "    <tr>\n",
              "      <th>8</th>\n",
              "      <td></td>\n",
              "      <td>Marry Me-Train</td>\n",
              "      <td>0.154472</td>\n",
              "      <td>9</td>\n",
              "    </tr>\n",
              "    <tr>\n",
              "      <th>9</th>\n",
              "      <td></td>\n",
              "      <td>Lucky (Album Version)-Jason Mraz &amp; Colbie Caillat</td>\n",
              "      <td>0.151042</td>\n",
              "      <td>10</td>\n",
              "    </tr>\n",
              "  </tbody>\n",
              "</table>\n",
              "</div>"
            ],
            "text/plain": [
              "  user_id                                               song     score rank\n",
              "0               Eenie Meenie-Sean Kingston and Justin Bieber  0.298387    1\n",
              "1                             Somebody To Love-Justin Bieber  0.297619    2\n",
              "2                                      Love Me-Justin Bieber  0.289720    3\n",
              "3                         One Less Lonely Girl-Justin Bieber  0.264151    4\n",
              "4                                     One Time-Justin Bieber  0.230769    5\n",
              "5                            That Should Be Me-Justin Bieber  0.174312    6\n",
              "6                                Down To Earth-Justin Bieber  0.168421    7\n",
              "7                              Heartbreak Warfare-John Mayer  0.163636    8\n",
              "8                                             Marry Me-Train  0.154472    9\n",
              "9          Lucky (Album Version)-Jason Mraz & Colbie Caillat  0.151042   10"
            ]
          },
          "execution_count": 24,
          "metadata": {},
          "output_type": "execute_result"
        }
      ]
    },
    {
      "cell_type": "markdown",
      "metadata": {
        "id": "d2ca7b29"
      },
      "source": [
        "__Thank You!__"
      ],
      "id": "d2ca7b29"
    },
    {
      "cell_type": "code",
      "metadata": {
        "id": "dfe2b9e9"
      },
      "source": [
        ""
      ],
      "id": "dfe2b9e9",
      "execution_count": null,
      "outputs": []
    }
  ]
}